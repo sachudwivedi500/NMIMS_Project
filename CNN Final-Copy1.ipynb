{
 "cells": [
  {
   "cell_type": "markdown",
   "id": "f50dc5d9",
   "metadata": {},
   "source": [
    "### Practice Code for DataFrame"
   ]
  },
  {
   "cell_type": "code",
   "execution_count": 36,
   "id": "c5e538a5",
   "metadata": {
    "scrolled": true
   },
   "outputs": [
    {
     "data": {
      "text/html": [
       "<div>\n",
       "<style scoped>\n",
       "    .dataframe tbody tr th:only-of-type {\n",
       "        vertical-align: middle;\n",
       "    }\n",
       "\n",
       "    .dataframe tbody tr th {\n",
       "        vertical-align: top;\n",
       "    }\n",
       "\n",
       "    .dataframe thead th {\n",
       "        text-align: right;\n",
       "    }\n",
       "</style>\n",
       "<table border=\"1\" class=\"dataframe\">\n",
       "  <thead>\n",
       "    <tr style=\"text-align: right;\">\n",
       "      <th></th>\n",
       "      <th>1</th>\n",
       "      <th>2</th>\n",
       "      <th>3</th>\n",
       "      <th>4</th>\n",
       "      <th>5</th>\n",
       "      <th>6</th>\n",
       "      <th>7</th>\n",
       "      <th>8</th>\n",
       "      <th>9</th>\n",
       "      <th>10</th>\n",
       "      <th>...</th>\n",
       "      <th>65528</th>\n",
       "      <th>65529</th>\n",
       "      <th>65530</th>\n",
       "      <th>65531</th>\n",
       "      <th>65532</th>\n",
       "      <th>65533</th>\n",
       "      <th>65534</th>\n",
       "      <th>65535</th>\n",
       "      <th>65536</th>\n",
       "      <th>Folder</th>\n",
       "    </tr>\n",
       "  </thead>\n",
       "  <tbody>\n",
       "  </tbody>\n",
       "</table>\n",
       "<p>0 rows × 65537 columns</p>\n",
       "</div>"
      ],
      "text/plain": [
       "Empty DataFrame\n",
       "Columns: [1, 2, 3, 4, 5, 6, 7, 8, 9, 10, 11, 12, 13, 14, 15, 16, 17, 18, 19, 20, 21, 22, 23, 24, 25, 26, 27, 28, 29, 30, 31, 32, 33, 34, 35, 36, 37, 38, 39, 40, 41, 42, 43, 44, 45, 46, 47, 48, 49, 50, 51, 52, 53, 54, 55, 56, 57, 58, 59, 60, 61, 62, 63, 64, 65, 66, 67, 68, 69, 70, 71, 72, 73, 74, 75, 76, 77, 78, 79, 80, 81, 82, 83, 84, 85, 86, 87, 88, 89, 90, 91, 92, 93, 94, 95, 96, 97, 98, 99, 100, ...]\n",
       "Index: []\n",
       "\n",
       "[0 rows x 65537 columns]"
      ]
     },
     "execution_count": 36,
     "metadata": {},
     "output_type": "execute_result"
    }
   ],
   "source": [
    "l1=[str(i) for i in range(1,256*256+1)]\n",
    "l1.extend(['Folder'])\n",
    "df=DataFrame(columns=l1)\n",
    "df"
   ]
  },
  {
   "cell_type": "code",
   "execution_count": 37,
   "id": "06c47dc6",
   "metadata": {},
   "outputs": [],
   "source": [
    "l2=list(range(256*256))\n",
    "l2.extend(['hi'])"
   ]
  },
  {
   "cell_type": "code",
   "execution_count": 38,
   "id": "65990265",
   "metadata": {
    "scrolled": true
   },
   "outputs": [
    {
     "data": {
      "text/html": [
       "<div>\n",
       "<style scoped>\n",
       "    .dataframe tbody tr th:only-of-type {\n",
       "        vertical-align: middle;\n",
       "    }\n",
       "\n",
       "    .dataframe tbody tr th {\n",
       "        vertical-align: top;\n",
       "    }\n",
       "\n",
       "    .dataframe thead th {\n",
       "        text-align: right;\n",
       "    }\n",
       "</style>\n",
       "<table border=\"1\" class=\"dataframe\">\n",
       "  <thead>\n",
       "    <tr style=\"text-align: right;\">\n",
       "      <th></th>\n",
       "      <th>1</th>\n",
       "      <th>2</th>\n",
       "      <th>3</th>\n",
       "      <th>4</th>\n",
       "      <th>5</th>\n",
       "      <th>6</th>\n",
       "      <th>7</th>\n",
       "      <th>8</th>\n",
       "      <th>9</th>\n",
       "      <th>10</th>\n",
       "      <th>...</th>\n",
       "      <th>65528</th>\n",
       "      <th>65529</th>\n",
       "      <th>65530</th>\n",
       "      <th>65531</th>\n",
       "      <th>65532</th>\n",
       "      <th>65533</th>\n",
       "      <th>65534</th>\n",
       "      <th>65535</th>\n",
       "      <th>65536</th>\n",
       "      <th>Folder</th>\n",
       "    </tr>\n",
       "  </thead>\n",
       "  <tbody>\n",
       "    <tr>\n",
       "      <th>0</th>\n",
       "      <td>0</td>\n",
       "      <td>1</td>\n",
       "      <td>2</td>\n",
       "      <td>3</td>\n",
       "      <td>4</td>\n",
       "      <td>5</td>\n",
       "      <td>6</td>\n",
       "      <td>7</td>\n",
       "      <td>8</td>\n",
       "      <td>9</td>\n",
       "      <td>...</td>\n",
       "      <td>65527</td>\n",
       "      <td>65528</td>\n",
       "      <td>65529</td>\n",
       "      <td>65530</td>\n",
       "      <td>65531</td>\n",
       "      <td>65532</td>\n",
       "      <td>65533</td>\n",
       "      <td>65534</td>\n",
       "      <td>65535</td>\n",
       "      <td>hi</td>\n",
       "    </tr>\n",
       "  </tbody>\n",
       "</table>\n",
       "<p>1 rows × 65537 columns</p>\n",
       "</div>"
      ],
      "text/plain": [
       "   1  2  3  4  5  6  7  8  9  10  ...  65528  65529  65530  65531  65532  \\\n",
       "0  0  1  2  3  4  5  6  7  8   9  ...  65527  65528  65529  65530  65531   \n",
       "\n",
       "   65533  65534  65535  65536  Folder  \n",
       "0  65532  65533  65534  65535      hi  \n",
       "\n",
       "[1 rows x 65537 columns]"
      ]
     },
     "execution_count": 38,
     "metadata": {},
     "output_type": "execute_result"
    }
   ],
   "source": [
    "df.loc[len(df)]=l2\n",
    "df"
   ]
  },
  {
   "cell_type": "code",
   "execution_count": null,
   "id": "c291958c",
   "metadata": {},
   "outputs": [],
   "source": []
  },
  {
   "attachments": {
    "image.png": {
     "image/png": "[encoded data removed]"
    }
   },
   "cell_type": "markdown",
   "id": "f5746968",
   "metadata": {},
   "source": [
    "![image.png](attachment:image.png)"
   ]
  },
  {
   "cell_type": "markdown",
   "id": "937d9bfd",
   "metadata": {},
   "source": [
    "## Dataset which we have used is \n",
    "https://www.kaggle.com/datasets/emmarex/plantdisease"
   ]
  },
  {
   "cell_type": "code",
   "execution_count": null,
   "id": "90b7c885",
   "metadata": {},
   "outputs": [],
   "source": []
  },
  {
   "cell_type": "code",
   "execution_count": 1,
   "id": "17b56744",
   "metadata": {},
   "outputs": [
    {
     "name": "stdout",
     "output_type": "stream",
     "text": [
      "WARNING:tensorflow:From C:\\Users\\Harsh\\anaconda3\\Lib\\site-packages\\keras\\src\\losses.py:2976: The name tf.losses.sparse_softmax_cross_entropy is deprecated. Please use tf.compat.v1.losses.sparse_softmax_cross_entropy instead.\n",
      "\n"
     ]
    }
   ],
   "source": [
    "import numpy as np\n",
    "import pickle\n",
    "import cv2\n",
    "from pandas import DataFrame\n",
    "from os import listdir\n",
    "from PIL import Image\n",
    "from sklearn.preprocessing import LabelBinarizer\n",
    "from keras.models import Sequential\n",
    "from keras.layers import BatchNormalization\n",
    "from keras.layers import Conv2D\n",
    "from keras.layers import MaxPooling2D\n",
    "from keras.layers import Activation, Flatten, Dropout, Dense\n",
    "from keras import backend as K\n",
    "from keras.preprocessing.image import ImageDataGenerator\n",
    "from keras.optimizers import Adam\n",
    "from keras.preprocessing import image\n",
    "from keras.preprocessing.image import img_to_array\n",
    "from sklearn.preprocessing import MultiLabelBinarizer\n",
    "from sklearn.model_selection import train_test_split\n",
    "import matplotlib.pyplot as plt"
   ]
  },
  {
   "cell_type": "code",
   "execution_count": 2,
   "id": "c68c1f1d",
   "metadata": {},
   "outputs": [],
   "source": [
    "EPOCHS = 25\n",
    "INIT_LR = 1e-3\n",
    "BS = 32\n",
    "default_image_size = tuple((256, 256))\n",
    "image_size = 0\n",
    "#directory_root = '/input/plantvillage/'\n",
    "directory_root = \"D:/PlantVillage\"\n",
    "width=256\n",
    "height=256\n",
    "depth=3"
   ]
  },
  {
   "cell_type": "code",
   "execution_count": 3,
   "id": "5b147cfb",
   "metadata": {},
   "outputs": [],
   "source": [
    "def convert_image_to_array(image_dir):\n",
    "    try:\n",
    "        image = cv2.imread(image_dir)\n",
    "        if image is not None :\n",
    "            image = cv2.resize(image, default_image_size)   \n",
    "            return img_to_array(image)\n",
    "        else :\n",
    "            return np.array([])\n",
    "    except Exception as e:\n",
    "        print(f\"Error : {e}\")\n",
    "        return None"
   ]
  },
  {
   "cell_type": "markdown",
   "id": "a465565b",
   "metadata": {},
   "source": [
    "## Data frame to take BW image vector 256*256"
   ]
  },
  {
   "cell_type": "code",
   "execution_count": 5,
   "id": "719a4a1b",
   "metadata": {},
   "outputs": [
    {
     "data": {
      "text/html": [
       "<div>\n",
       "<style scoped>\n",
       "    .dataframe tbody tr th:only-of-type {\n",
       "        vertical-align: middle;\n",
       "    }\n",
       "\n",
       "    .dataframe tbody tr th {\n",
       "        vertical-align: top;\n",
       "    }\n",
       "\n",
       "    .dataframe thead th {\n",
       "        text-align: right;\n",
       "    }\n",
       "</style>\n",
       "<table border=\"1\" class=\"dataframe\">\n",
       "  <thead>\n",
       "    <tr style=\"text-align: right;\">\n",
       "      <th></th>\n",
       "      <th>1</th>\n",
       "      <th>2</th>\n",
       "      <th>3</th>\n",
       "      <th>4</th>\n",
       "      <th>5</th>\n",
       "      <th>6</th>\n",
       "      <th>7</th>\n",
       "      <th>8</th>\n",
       "      <th>9</th>\n",
       "      <th>10</th>\n",
       "      <th>...</th>\n",
       "      <th>65527</th>\n",
       "      <th>65528</th>\n",
       "      <th>65529</th>\n",
       "      <th>65530</th>\n",
       "      <th>65531</th>\n",
       "      <th>65532</th>\n",
       "      <th>65533</th>\n",
       "      <th>65534</th>\n",
       "      <th>65535</th>\n",
       "      <th>65536</th>\n",
       "    </tr>\n",
       "  </thead>\n",
       "  <tbody>\n",
       "  </tbody>\n",
       "</table>\n",
       "<p>0 rows × 65536 columns</p>\n",
       "</div>"
      ],
      "text/plain": [
       "Empty DataFrame\n",
       "Columns: [1, 2, 3, 4, 5, 6, 7, 8, 9, 10, 11, 12, 13, 14, 15, 16, 17, 18, 19, 20, 21, 22, 23, 24, 25, 26, 27, 28, 29, 30, 31, 32, 33, 34, 35, 36, 37, 38, 39, 40, 41, 42, 43, 44, 45, 46, 47, 48, 49, 50, 51, 52, 53, 54, 55, 56, 57, 58, 59, 60, 61, 62, 63, 64, 65, 66, 67, 68, 69, 70, 71, 72, 73, 74, 75, 76, 77, 78, 79, 80, 81, 82, 83, 84, 85, 86, 87, 88, 89, 90, 91, 92, 93, 94, 95, 96, 97, 98, 99, 100, ...]\n",
       "Index: []\n",
       "\n",
       "[0 rows x 65536 columns]"
      ]
     },
     "execution_count": 5,
     "metadata": {},
     "output_type": "execute_result"
    }
   ],
   "source": [
    "l1=[str(i) for i in range(1,256*256+1)]\n",
    "#l1.extend(['Folder'])\n",
    "df=DataFrame(columns=l1)\n",
    "df"
   ]
  },
  {
   "cell_type": "code",
   "execution_count": 22,
   "id": "5e6e4b37",
   "metadata": {},
   "outputs": [
    {
     "data": {
      "text/plain": [
       "['Pepper__bell___Bacterial_spot',\n",
       " 'Pepper__bell___healthy',\n",
       " 'Potato___Early_blight',\n",
       " 'Potato___healthy',\n",
       " 'Potato___Late_blight',\n",
       " 'Tomato_Bacterial_spot',\n",
       " 'Tomato_Early_blight',\n",
       " 'Tomato_healthy',\n",
       " 'Tomato_Late_blight',\n",
       " 'Tomato_Leaf_Mold',\n",
       " 'Tomato_Septoria_leaf_spot',\n",
       " 'Tomato_Spider_mites_Two_spotted_spider_mite',\n",
       " 'Tomato__Target_Spot',\n",
       " 'Tomato__Tomato_mosaic_virus',\n",
       " 'Tomato__Tomato_YellowLeaf__Curl_Virus']"
      ]
     },
     "execution_count": 22,
     "metadata": {},
     "output_type": "execute_result"
    }
   ],
   "source": [
    "root_dir = listdir(directory_root)\n",
    "root_dir"
   ]
  },
  {
   "cell_type": "code",
   "execution_count": 6,
   "id": "0eb3eed5",
   "metadata": {
    "scrolled": true
   },
   "outputs": [
    {
     "name": "stdout",
     "output_type": "stream",
     "text": [
      "Loading images ...\n",
      "\n",
      "\n",
      "Processing Pepper__bell___Bacterial_spot ...\n",
      "\n",
      "\n",
      "Processing Pepper__bell___healthy ...\n",
      "\n",
      "\n",
      "Processing Potato___Early_blight ...\n",
      "\n",
      "\n",
      "Processing Potato___healthy ...\n",
      "\n",
      "\n",
      "Processing Potato___Late_blight ...\n",
      "\n",
      "\n",
      "Processing Tomato_Bacterial_spot ...\n",
      "\n",
      "\n",
      "Processing Tomato_Early_blight ...\n",
      "\n",
      "\n",
      "Processing Tomato_healthy ...\n",
      "\n",
      "\n",
      "Processing Tomato_Late_blight ...\n",
      "\n",
      "\n",
      "Processing Tomato_Leaf_Mold ...\n",
      "\n",
      "\n",
      "Processing Tomato_Septoria_leaf_spot ...\n",
      "\n",
      "\n",
      "Processing Tomato_Spider_mites_Two_spotted_spider_mite ...\n",
      "\n",
      "\n",
      "Processing Tomato__Target_Spot ...\n",
      "\n",
      "\n",
      "Processing Tomato__Tomato_mosaic_virus ...\n",
      "\n",
      "\n",
      "Processing Tomato__Tomato_YellowLeaf__Curl_Virus ...\n",
      "\n",
      "First Step Done\n",
      "Image loading completed\n"
     ]
    }
   ],
   "source": [
    "image_list, label_list = [], []\n",
    "count_img=[]\n",
    "pixel_vector=[]\n",
    "\n",
    "try:\n",
    "    print(\"Loading images ...\")\n",
    "    root_dir = listdir(directory_root)\n",
    "    for directory in root_dir :\n",
    "        # remove .DS_Store from list\n",
    "        if directory == \".DS_Store\" :\n",
    "            root_dir.remove(directory)\n",
    "\n",
    "    for plant_folder in root_dir :\n",
    "        print('\\n')\n",
    "        print(f\"Processing {plant_folder} ...\")\n",
    "        plant_disease_image_list = listdir(f\"{directory_root}/{plant_folder}\")\n",
    "        count_img.append(len(plant_disease_image_list))\n",
    "        \n",
    "        for image_sample in plant_disease_image_list :\n",
    "            # remove .DS_Store from list\n",
    "            if image_sample == \".DS_Store\" :\n",
    "                plant_disease_image_list.remove(image_sample)\n",
    "                \n",
    "        for image_directory in plant_disease_image_list[:200]:\n",
    "            \n",
    "            if image_directory.endswith(\".jpg\") == True or image_directory.endswith(\".JPG\") == True:\n",
    "                \n",
    "                image_path=f\"{directory_root}/{plant_folder}/{image_directory}\"\n",
    "                image_list.append(convert_image_to_array(image_path))\n",
    "                \n",
    "                \n",
    "                img = Image.open(image_path)\n",
    "                label_list.append(plant_folder)\n",
    "                \n",
    "                # Convert the image to grayscale\n",
    "                gray_img = img.convert('L')\n",
    "                original_list = list(gray_img.getdata())\n",
    "                # Divide each element by a specific value\n",
    "                divisor = 255\n",
    "                result_list = [round(element/divisor,3) for element in original_list]\n",
    "                pixel_vector.append(result_list)\n",
    "                #result_list.extend([plant_folder])\n",
    "                \n",
    "                df.loc[len(df)]=result_list\n",
    "                                            \n",
    "                \n",
    "         \n",
    "    print(\"\\nFirst Step Done\\nImage loading completed\")  \n",
    "except Exception as e:\n",
    "    print(f\"Error : {e}\")"
   ]
  },
  {
   "cell_type": "code",
   "execution_count": 7,
   "id": "aa6f4745",
   "metadata": {},
   "outputs": [
    {
     "data": {
      "text/html": [
       "<div>\n",
       "<style scoped>\n",
       "    .dataframe tbody tr th:only-of-type {\n",
       "        vertical-align: middle;\n",
       "    }\n",
       "\n",
       "    .dataframe tbody tr th {\n",
       "        vertical-align: top;\n",
       "    }\n",
       "\n",
       "    .dataframe thead th {\n",
       "        text-align: right;\n",
       "    }\n",
       "</style>\n",
       "<table border=\"1\" class=\"dataframe\">\n",
       "  <thead>\n",
       "    <tr style=\"text-align: right;\">\n",
       "      <th></th>\n",
       "      <th>1</th>\n",
       "      <th>2</th>\n",
       "      <th>3</th>\n",
       "      <th>4</th>\n",
       "      <th>5</th>\n",
       "      <th>6</th>\n",
       "      <th>7</th>\n",
       "      <th>8</th>\n",
       "      <th>9</th>\n",
       "      <th>10</th>\n",
       "      <th>...</th>\n",
       "      <th>65527</th>\n",
       "      <th>65528</th>\n",
       "      <th>65529</th>\n",
       "      <th>65530</th>\n",
       "      <th>65531</th>\n",
       "      <th>65532</th>\n",
       "      <th>65533</th>\n",
       "      <th>65534</th>\n",
       "      <th>65535</th>\n",
       "      <th>65536</th>\n",
       "    </tr>\n",
       "  </thead>\n",
       "  <tbody>\n",
       "    <tr>\n",
       "      <th>0</th>\n",
       "      <td>0.388</td>\n",
       "      <td>0.365</td>\n",
       "      <td>0.486</td>\n",
       "      <td>0.400</td>\n",
       "      <td>0.475</td>\n",
       "      <td>0.447</td>\n",
       "      <td>0.349</td>\n",
       "      <td>0.451</td>\n",
       "      <td>0.431</td>\n",
       "      <td>0.427</td>\n",
       "      <td>...</td>\n",
       "      <td>0.588</td>\n",
       "      <td>0.608</td>\n",
       "      <td>0.584</td>\n",
       "      <td>0.608</td>\n",
       "      <td>0.608</td>\n",
       "      <td>0.588</td>\n",
       "      <td>0.588</td>\n",
       "      <td>0.620</td>\n",
       "      <td>0.639</td>\n",
       "      <td>0.635</td>\n",
       "    </tr>\n",
       "    <tr>\n",
       "      <th>1</th>\n",
       "      <td>0.518</td>\n",
       "      <td>0.525</td>\n",
       "      <td>0.541</td>\n",
       "      <td>0.529</td>\n",
       "      <td>0.514</td>\n",
       "      <td>0.502</td>\n",
       "      <td>0.494</td>\n",
       "      <td>0.498</td>\n",
       "      <td>0.529</td>\n",
       "      <td>0.565</td>\n",
       "      <td>...</td>\n",
       "      <td>0.502</td>\n",
       "      <td>0.502</td>\n",
       "      <td>0.506</td>\n",
       "      <td>0.580</td>\n",
       "      <td>0.494</td>\n",
       "      <td>0.620</td>\n",
       "      <td>0.388</td>\n",
       "      <td>0.588</td>\n",
       "      <td>0.553</td>\n",
       "      <td>0.471</td>\n",
       "    </tr>\n",
       "    <tr>\n",
       "      <th>2</th>\n",
       "      <td>0.576</td>\n",
       "      <td>0.439</td>\n",
       "      <td>0.094</td>\n",
       "      <td>0.094</td>\n",
       "      <td>0.090</td>\n",
       "      <td>0.055</td>\n",
       "      <td>0.031</td>\n",
       "      <td>0.082</td>\n",
       "      <td>0.063</td>\n",
       "      <td>0.063</td>\n",
       "      <td>...</td>\n",
       "      <td>0.753</td>\n",
       "      <td>0.745</td>\n",
       "      <td>0.769</td>\n",
       "      <td>0.769</td>\n",
       "      <td>0.773</td>\n",
       "      <td>0.773</td>\n",
       "      <td>0.769</td>\n",
       "      <td>0.761</td>\n",
       "      <td>0.753</td>\n",
       "      <td>0.749</td>\n",
       "    </tr>\n",
       "    <tr>\n",
       "      <th>3</th>\n",
       "      <td>0.043</td>\n",
       "      <td>0.043</td>\n",
       "      <td>0.039</td>\n",
       "      <td>0.035</td>\n",
       "      <td>0.031</td>\n",
       "      <td>0.031</td>\n",
       "      <td>0.031</td>\n",
       "      <td>0.035</td>\n",
       "      <td>0.024</td>\n",
       "      <td>0.024</td>\n",
       "      <td>...</td>\n",
       "      <td>0.420</td>\n",
       "      <td>0.667</td>\n",
       "      <td>0.686</td>\n",
       "      <td>0.651</td>\n",
       "      <td>0.616</td>\n",
       "      <td>0.753</td>\n",
       "      <td>0.675</td>\n",
       "      <td>0.737</td>\n",
       "      <td>0.443</td>\n",
       "      <td>0.690</td>\n",
       "    </tr>\n",
       "    <tr>\n",
       "      <th>4</th>\n",
       "      <td>0.671</td>\n",
       "      <td>0.667</td>\n",
       "      <td>0.659</td>\n",
       "      <td>0.651</td>\n",
       "      <td>0.643</td>\n",
       "      <td>0.639</td>\n",
       "      <td>0.631</td>\n",
       "      <td>0.631</td>\n",
       "      <td>0.635</td>\n",
       "      <td>0.627</td>\n",
       "      <td>...</td>\n",
       "      <td>0.471</td>\n",
       "      <td>0.431</td>\n",
       "      <td>0.388</td>\n",
       "      <td>0.337</td>\n",
       "      <td>0.396</td>\n",
       "      <td>0.451</td>\n",
       "      <td>0.427</td>\n",
       "      <td>0.318</td>\n",
       "      <td>0.412</td>\n",
       "      <td>0.388</td>\n",
       "    </tr>\n",
       "    <tr>\n",
       "      <th>...</th>\n",
       "      <td>...</td>\n",
       "      <td>...</td>\n",
       "      <td>...</td>\n",
       "      <td>...</td>\n",
       "      <td>...</td>\n",
       "      <td>...</td>\n",
       "      <td>...</td>\n",
       "      <td>...</td>\n",
       "      <td>...</td>\n",
       "      <td>...</td>\n",
       "      <td>...</td>\n",
       "      <td>...</td>\n",
       "      <td>...</td>\n",
       "      <td>...</td>\n",
       "      <td>...</td>\n",
       "      <td>...</td>\n",
       "      <td>...</td>\n",
       "      <td>...</td>\n",
       "      <td>...</td>\n",
       "      <td>...</td>\n",
       "      <td>...</td>\n",
       "    </tr>\n",
       "    <tr>\n",
       "      <th>2947</th>\n",
       "      <td>0.635</td>\n",
       "      <td>0.592</td>\n",
       "      <td>0.573</td>\n",
       "      <td>0.596</td>\n",
       "      <td>0.600</td>\n",
       "      <td>0.569</td>\n",
       "      <td>0.557</td>\n",
       "      <td>0.576</td>\n",
       "      <td>0.624</td>\n",
       "      <td>0.576</td>\n",
       "      <td>...</td>\n",
       "      <td>0.396</td>\n",
       "      <td>0.373</td>\n",
       "      <td>0.392</td>\n",
       "      <td>0.373</td>\n",
       "      <td>0.325</td>\n",
       "      <td>0.380</td>\n",
       "      <td>0.322</td>\n",
       "      <td>0.310</td>\n",
       "      <td>0.431</td>\n",
       "      <td>0.333</td>\n",
       "    </tr>\n",
       "    <tr>\n",
       "      <th>2948</th>\n",
       "      <td>0.463</td>\n",
       "      <td>0.322</td>\n",
       "      <td>0.349</td>\n",
       "      <td>0.431</td>\n",
       "      <td>0.337</td>\n",
       "      <td>0.537</td>\n",
       "      <td>0.416</td>\n",
       "      <td>0.439</td>\n",
       "      <td>0.502</td>\n",
       "      <td>0.427</td>\n",
       "      <td>...</td>\n",
       "      <td>0.569</td>\n",
       "      <td>0.561</td>\n",
       "      <td>0.553</td>\n",
       "      <td>0.569</td>\n",
       "      <td>0.573</td>\n",
       "      <td>0.561</td>\n",
       "      <td>0.561</td>\n",
       "      <td>0.580</td>\n",
       "      <td>0.592</td>\n",
       "      <td>0.592</td>\n",
       "    </tr>\n",
       "    <tr>\n",
       "      <th>2949</th>\n",
       "      <td>0.475</td>\n",
       "      <td>0.494</td>\n",
       "      <td>0.522</td>\n",
       "      <td>0.447</td>\n",
       "      <td>0.553</td>\n",
       "      <td>0.514</td>\n",
       "      <td>0.518</td>\n",
       "      <td>0.459</td>\n",
       "      <td>0.565</td>\n",
       "      <td>0.533</td>\n",
       "      <td>...</td>\n",
       "      <td>0.627</td>\n",
       "      <td>0.573</td>\n",
       "      <td>0.596</td>\n",
       "      <td>0.592</td>\n",
       "      <td>0.612</td>\n",
       "      <td>0.631</td>\n",
       "      <td>0.608</td>\n",
       "      <td>0.569</td>\n",
       "      <td>0.573</td>\n",
       "      <td>0.616</td>\n",
       "    </tr>\n",
       "    <tr>\n",
       "      <th>2950</th>\n",
       "      <td>0.588</td>\n",
       "      <td>0.580</td>\n",
       "      <td>0.573</td>\n",
       "      <td>0.569</td>\n",
       "      <td>0.565</td>\n",
       "      <td>0.573</td>\n",
       "      <td>0.580</td>\n",
       "      <td>0.584</td>\n",
       "      <td>0.588</td>\n",
       "      <td>0.580</td>\n",
       "      <td>...</td>\n",
       "      <td>0.416</td>\n",
       "      <td>0.427</td>\n",
       "      <td>0.388</td>\n",
       "      <td>0.416</td>\n",
       "      <td>0.416</td>\n",
       "      <td>0.392</td>\n",
       "      <td>0.396</td>\n",
       "      <td>0.427</td>\n",
       "      <td>0.431</td>\n",
       "      <td>0.408</td>\n",
       "    </tr>\n",
       "    <tr>\n",
       "      <th>2951</th>\n",
       "      <td>0.557</td>\n",
       "      <td>0.533</td>\n",
       "      <td>0.525</td>\n",
       "      <td>0.537</td>\n",
       "      <td>0.518</td>\n",
       "      <td>0.490</td>\n",
       "      <td>0.514</td>\n",
       "      <td>0.569</td>\n",
       "      <td>0.522</td>\n",
       "      <td>0.529</td>\n",
       "      <td>...</td>\n",
       "      <td>0.549</td>\n",
       "      <td>0.545</td>\n",
       "      <td>0.549</td>\n",
       "      <td>0.553</td>\n",
       "      <td>0.561</td>\n",
       "      <td>0.561</td>\n",
       "      <td>0.561</td>\n",
       "      <td>0.553</td>\n",
       "      <td>0.541</td>\n",
       "      <td>0.533</td>\n",
       "    </tr>\n",
       "  </tbody>\n",
       "</table>\n",
       "<p>2952 rows × 65536 columns</p>\n",
       "</div>"
      ],
      "text/plain": [
       "          1      2      3      4      5      6      7      8      9     10  \\\n",
       "0     0.388  0.365  0.486  0.400  0.475  0.447  0.349  0.451  0.431  0.427   \n",
       "1     0.518  0.525  0.541  0.529  0.514  0.502  0.494  0.498  0.529  0.565   \n",
       "2     0.576  0.439  0.094  0.094  0.090  0.055  0.031  0.082  0.063  0.063   \n",
       "3     0.043  0.043  0.039  0.035  0.031  0.031  0.031  0.035  0.024  0.024   \n",
       "4     0.671  0.667  0.659  0.651  0.643  0.639  0.631  0.631  0.635  0.627   \n",
       "...     ...    ...    ...    ...    ...    ...    ...    ...    ...    ...   \n",
       "2947  0.635  0.592  0.573  0.596  0.600  0.569  0.557  0.576  0.624  0.576   \n",
       "2948  0.463  0.322  0.349  0.431  0.337  0.537  0.416  0.439  0.502  0.427   \n",
       "2949  0.475  0.494  0.522  0.447  0.553  0.514  0.518  0.459  0.565  0.533   \n",
       "2950  0.588  0.580  0.573  0.569  0.565  0.573  0.580  0.584  0.588  0.580   \n",
       "2951  0.557  0.533  0.525  0.537  0.518  0.490  0.514  0.569  0.522  0.529   \n",
       "\n",
       "      ...  65527  65528  65529  65530  65531  65532  65533  65534  65535  \\\n",
       "0     ...  0.588  0.608  0.584  0.608  0.608  0.588  0.588  0.620  0.639   \n",
       "1     ...  0.502  0.502  0.506  0.580  0.494  0.620  0.388  0.588  0.553   \n",
       "2     ...  0.753  0.745  0.769  0.769  0.773  0.773  0.769  0.761  0.753   \n",
       "3     ...  0.420  0.667  0.686  0.651  0.616  0.753  0.675  0.737  0.443   \n",
       "4     ...  0.471  0.431  0.388  0.337  0.396  0.451  0.427  0.318  0.412   \n",
       "...   ...    ...    ...    ...    ...    ...    ...    ...    ...    ...   \n",
       "2947  ...  0.396  0.373  0.392  0.373  0.325  0.380  0.322  0.310  0.431   \n",
       "2948  ...  0.569  0.561  0.553  0.569  0.573  0.561  0.561  0.580  0.592   \n",
       "2949  ...  0.627  0.573  0.596  0.592  0.612  0.631  0.608  0.569  0.573   \n",
       "2950  ...  0.416  0.427  0.388  0.416  0.416  0.392  0.396  0.427  0.431   \n",
       "2951  ...  0.549  0.545  0.549  0.553  0.561  0.561  0.561  0.553  0.541   \n",
       "\n",
       "      65536  \n",
       "0     0.635  \n",
       "1     0.471  \n",
       "2     0.749  \n",
       "3     0.690  \n",
       "4     0.388  \n",
       "...     ...  \n",
       "2947  0.333  \n",
       "2948  0.592  \n",
       "2949  0.616  \n",
       "2950  0.408  \n",
       "2951  0.533  \n",
       "\n",
       "[2952 rows x 65536 columns]"
      ]
     },
     "execution_count": 7,
     "metadata": {},
     "output_type": "execute_result"
    }
   ],
   "source": [
    "df"
   ]
  },
  {
   "cell_type": "markdown",
   "id": "dd3fa5cc",
   "metadata": {},
   "source": [
    "df.to_excel('your_file.xlsx', index=False)"
   ]
  },
  {
   "cell_type": "markdown",
   "id": "090f7eed",
   "metadata": {},
   "source": [
    "## Transform Image Labels uisng LabelBinarizer"
   ]
  },
  {
   "cell_type": "code",
   "execution_count": 8,
   "id": "cfec801e",
   "metadata": {},
   "outputs": [
    {
     "name": "stdout",
     "output_type": "stream",
     "text": [
      "Number of Classes  15\n",
      "\n",
      "Classes are\n",
      " ['Pepper__bell___Bacterial_spot' 'Pepper__bell___healthy'\n",
      " 'Potato___Early_blight' 'Potato___Late_blight' 'Potato___healthy'\n",
      " 'Tomato_Bacterial_spot' 'Tomato_Early_blight' 'Tomato_Late_blight'\n",
      " 'Tomato_Leaf_Mold' 'Tomato_Septoria_leaf_spot'\n",
      " 'Tomato_Spider_mites_Two_spotted_spider_mite' 'Tomato__Target_Spot'\n",
      " 'Tomato__Tomato_YellowLeaf__Curl_Virus' 'Tomato__Tomato_mosaic_virus'\n",
      " 'Tomato_healthy']\n"
     ]
    }
   ],
   "source": [
    "label_binarizer = LabelBinarizer()\n",
    "image_labels = label_binarizer.fit_transform(label_list)\n",
    "#pickle.dump(label_binarizer,open('label_transform.pkl', 'wb'))\n",
    "n_classes = len(label_binarizer.classes_)\n",
    "print('Number of Classes ',n_classes)\n",
    "\n",
    "# Print the classes\n",
    "print('\\nClasses are\\n',label_binarizer.classes_)"
   ]
  },
  {
   "cell_type": "markdown",
   "id": "40683329",
   "metadata": {},
   "source": [
    "## To scale the image vector values between 0 and 1"
   ]
  },
  {
   "cell_type": "code",
   "execution_count": 9,
   "id": "80345481",
   "metadata": {},
   "outputs": [],
   "source": [
    "np_img_list=np.array(image_list, dtype=np.float16) / 255.0"
   ]
  },
  {
   "cell_type": "markdown",
   "id": "55d3154e",
   "metadata": {},
   "source": [
    "## Splitting Data into Train and Test"
   ]
  },
  {
   "cell_type": "code",
   "execution_count": 23,
   "id": "24bc6325",
   "metadata": {},
   "outputs": [],
   "source": [
    "x_train, x_test, y_train, y_test = train_test_split(np_img_list, image_labels, test_size=0.2, random_state = 42) "
   ]
  },
  {
   "cell_type": "code",
   "execution_count": 25,
   "id": "148ff50d",
   "metadata": {},
   "outputs": [
    {
     "name": "stdout",
     "output_type": "stream",
     "text": [
      "Dimesions are as follows:\n",
      "x_train  (2361, 256, 256, 3) \n",
      "y_train  (2361, 15) \n",
      "x_test  (591, 256, 256, 3) \n",
      "y_test  (591, 15)\n"
     ]
    }
   ],
   "source": [
    "print('Dimesions are as follows:\\nx_train ',x_train.shape,'\\ny_train ',\n",
    "      y_train.shape,'\\nx_test ',x_test.shape,'\\ny_test ',y_test.shape)"
   ]
  },
  {
   "cell_type": "code",
   "execution_count": 12,
   "id": "9dffbde4",
   "metadata": {},
   "outputs": [],
   "source": [
    "aug = ImageDataGenerator(rotation_range=25, width_shift_range=0.1,height_shift_range=0.1, shear_range=0.2,\n",
    "                         zoom_range=0.2, horizontal_flip=True, fill_mode=\"nearest\")"
   ]
  },
  {
   "cell_type": "code",
   "execution_count": 13,
   "id": "2707daf0",
   "metadata": {},
   "outputs": [
    {
     "name": "stdout",
     "output_type": "stream",
     "text": [
      "WARNING:tensorflow:From C:\\Users\\Harsh\\anaconda3\\Lib\\site-packages\\keras\\src\\backend.py:873: The name tf.get_default_graph is deprecated. Please use tf.compat.v1.get_default_graph instead.\n",
      "\n",
      "WARNING:tensorflow:From C:\\Users\\Harsh\\anaconda3\\Lib\\site-packages\\keras\\src\\layers\\normalization\\batch_normalization.py:979: The name tf.nn.fused_batch_norm is deprecated. Please use tf.compat.v1.nn.fused_batch_norm instead.\n",
      "\n"
     ]
    }
   ],
   "source": [
    "model = Sequential()\n",
    "inputShape = (height, width, depth)\n",
    "chanDim = -1\n",
    "if K.image_data_format() == \"channels_first\":\n",
    "    inputShape = (depth, height, width)\n",
    "    chanDim = 1\n",
    "\n",
    "model.add(Conv2D(32, (3, 3), padding=\"same\",input_shape=inputShape))\n",
    "model.add(Activation(\"relu\"))\n",
    "model.add(BatchNormalization(axis=chanDim))\n",
    "model.add(MaxPooling2D(pool_size=(3, 3)))\n",
    "model.add(Dropout(0.25))\n",
    "\n",
    "model.add(Conv2D(64, (3, 3), padding=\"same\"))\n",
    "model.add(Activation(\"relu\"))\n",
    "model.add(BatchNormalization(axis=chanDim))\n",
    "\n",
    "model.add(Conv2D(64, (3, 3), padding=\"same\"))\n",
    "model.add(Activation(\"relu\"))\n",
    "model.add(BatchNormalization(axis=chanDim))\n",
    "model.add(MaxPooling2D(pool_size=(2, 2)))\n",
    "model.add(Dropout(0.25))\n",
    "\n",
    "model.add(Conv2D(128, (3, 3), padding=\"same\"))\n",
    "model.add(Activation(\"relu\"))\n",
    "model.add(BatchNormalization(axis=chanDim))\n",
    "\n",
    "model.add(Conv2D(128, (3, 3), padding=\"same\"))\n",
    "model.add(Activation(\"relu\"))\n",
    "model.add(BatchNormalization(axis=chanDim))\n",
    "model.add(MaxPooling2D(pool_size=(2, 2)))\n",
    "model.add(Dropout(0.25))\n",
    "model.add(Flatten())\n",
    "\n",
    "model.add(Dense(1024))\n",
    "model.add(Activation(\"relu\"))\n",
    "model.add(BatchNormalization())\n",
    "model.add(Dropout(0.5))\n",
    "\n",
    "model.add(Dense(n_classes))\n",
    "model.add(Activation(\"softmax\"))"
   ]
  },
  {
   "cell_type": "code",
   "execution_count": 14,
   "id": "361dba7e",
   "metadata": {},
   "outputs": [
    {
     "name": "stdout",
     "output_type": "stream",
     "text": [
      "Model: \"sequential\"\n",
      "_________________________________________________________________\n",
      " Layer (type)                Output Shape              Param #   \n",
      "=================================================================\n",
      " conv2d (Conv2D)             (None, 256, 256, 32)      896       \n",
      "                                                                 \n",
      " activation (Activation)     (None, 256, 256, 32)      0         \n",
      "                                                                 \n",
      " batch_normalization (Batch  (None, 256, 256, 32)      128       \n",
      " Normalization)                                                  \n",
      "                                                                 \n",
      " max_pooling2d (MaxPooling2  (None, 85, 85, 32)        0         \n",
      " D)                                                              \n",
      "                                                                 \n",
      " dropout (Dropout)           (None, 85, 85, 32)        0         \n",
      "                                                                 \n",
      " conv2d_1 (Conv2D)           (None, 85, 85, 64)        18496     \n",
      "                                                                 \n",
      " activation_1 (Activation)   (None, 85, 85, 64)        0         \n",
      "                                                                 \n",
      " batch_normalization_1 (Bat  (None, 85, 85, 64)        256       \n",
      " chNormalization)                                                \n",
      "                                                                 \n",
      " conv2d_2 (Conv2D)           (None, 85, 85, 64)        36928     \n",
      "                                                                 \n",
      " activation_2 (Activation)   (None, 85, 85, 64)        0         \n",
      "                                                                 \n",
      " batch_normalization_2 (Bat  (None, 85, 85, 64)        256       \n",
      " chNormalization)                                                \n",
      "                                                                 \n",
      " max_pooling2d_1 (MaxPoolin  (None, 42, 42, 64)        0         \n",
      " g2D)                                                            \n",
      "                                                                 \n",
      " dropout_1 (Dropout)         (None, 42, 42, 64)        0         \n",
      "                                                                 \n",
      " conv2d_3 (Conv2D)           (None, 42, 42, 128)       73856     \n",
      "                                                                 \n",
      " activation_3 (Activation)   (None, 42, 42, 128)       0         \n",
      "                                                                 \n",
      " batch_normalization_3 (Bat  (None, 42, 42, 128)       512       \n",
      " chNormalization)                                                \n",
      "                                                                 \n",
      " conv2d_4 (Conv2D)           (None, 42, 42, 128)       147584    \n",
      "                                                                 \n",
      " activation_4 (Activation)   (None, 42, 42, 128)       0         \n",
      "                                                                 \n",
      " batch_normalization_4 (Bat  (None, 42, 42, 128)       512       \n",
      " chNormalization)                                                \n",
      "                                                                 \n",
      " max_pooling2d_2 (MaxPoolin  (None, 21, 21, 128)       0         \n",
      " g2D)                                                            \n",
      "                                                                 \n",
      " dropout_2 (Dropout)         (None, 21, 21, 128)       0         \n",
      "                                                                 \n",
      " flatten (Flatten)           (None, 56448)             0         \n",
      "                                                                 \n",
      " dense (Dense)               (None, 1024)              57803776  \n",
      "                                                                 \n",
      " activation_5 (Activation)   (None, 1024)              0         \n",
      "                                                                 \n",
      " batch_normalization_5 (Bat  (None, 1024)              4096      \n",
      " chNormalization)                                                \n",
      "                                                                 \n",
      " dropout_3 (Dropout)         (None, 1024)              0         \n",
      "                                                                 \n",
      " dense_1 (Dense)             (None, 15)                15375     \n",
      "                                                                 \n",
      " activation_6 (Activation)   (None, 15)                0         \n",
      "                                                                 \n",
      "=================================================================\n",
      "Total params: 58102671 (221.64 MB)\n",
      "Trainable params: 58099791 (221.63 MB)\n",
      "Non-trainable params: 2880 (11.25 KB)\n",
      "_________________________________________________________________\n"
     ]
    }
   ],
   "source": [
    "model.summary()"
   ]
  },
  {
   "cell_type": "code",
   "execution_count": 15,
   "id": "13033c83",
   "metadata": {},
   "outputs": [
    {
     "name": "stderr",
     "output_type": "stream",
     "text": [
      "WARNING:absl:`lr` is deprecated in Keras optimizer, please use `learning_rate` or use the legacy optimizer, e.g.,tf.keras.optimizers.legacy.Adam.\n"
     ]
    }
   ],
   "source": [
    "opt = Adam(lr=INIT_LR)\n",
    "model.compile(loss=\"binary_crossentropy\", optimizer=opt,metrics=[\"accuracy\"])"
   ]
  },
  {
   "cell_type": "code",
   "execution_count": 16,
   "id": "dc6b1851",
   "metadata": {},
   "outputs": [
    {
     "name": "stderr",
     "output_type": "stream",
     "text": [
      "C:\\Users\\Harsh\\AppData\\Local\\Temp\\ipykernel_16292\\1388483230.py:1: UserWarning: `Model.fit_generator` is deprecated and will be removed in a future version. Please use `Model.fit`, which supports generators.\n",
      "  history = model.fit_generator(aug.flow(x_train, y_train, batch_size=BS),validation_data=(x_test, y_test),\n"
     ]
    },
    {
     "name": "stdout",
     "output_type": "stream",
     "text": [
      "Epoch 1/25\n",
      "WARNING:tensorflow:From C:\\Users\\Harsh\\anaconda3\\Lib\\site-packages\\keras\\src\\utils\\tf_utils.py:492: The name tf.ragged.RaggedTensorValue is deprecated. Please use tf.compat.v1.ragged.RaggedTensorValue instead.\n",
      "\n"
     ]
    },
    {
     "name": "stderr",
     "output_type": "stream",
     "text": [
      "WARNING:tensorflow:From C:\\Users\\Harsh\\anaconda3\\Lib\\site-packages\\keras\\src\\utils\\tf_utils.py:492: The name tf.ragged.RaggedTensorValue is deprecated. Please use tf.compat.v1.ragged.RaggedTensorValue instead.\n",
      "\n"
     ]
    },
    {
     "name": "stdout",
     "output_type": "stream",
     "text": [
      "WARNING:tensorflow:From C:\\Users\\Harsh\\anaconda3\\Lib\\site-packages\\keras\\src\\engine\\base_layer_utils.py:384: The name tf.executing_eagerly_outside_functions is deprecated. Please use tf.compat.v1.executing_eagerly_outside_functions instead.\n",
      "\n"
     ]
    },
    {
     "name": "stderr",
     "output_type": "stream",
     "text": [
      "WARNING:tensorflow:From C:\\Users\\Harsh\\anaconda3\\Lib\\site-packages\\keras\\src\\engine\\base_layer_utils.py:384: The name tf.executing_eagerly_outside_functions is deprecated. Please use tf.compat.v1.executing_eagerly_outside_functions instead.\n",
      "\n"
     ]
    },
    {
     "name": "stdout",
     "output_type": "stream",
     "text": [
      "69/69 [==============================] - 219s 3s/step - loss: 0.6761 - accuracy: 0.2062 - val_loss: 0.4433 - val_accuracy: 0.0583\n",
      "Epoch 2/25\n",
      "69/69 [==============================] - 194s 3s/step - loss: 0.3420 - accuracy: 0.2397 - val_loss: 1.3017 - val_accuracy: 0.0664\n",
      "Epoch 3/25\n",
      "69/69 [==============================] - 194s 3s/step - loss: 0.2232 - accuracy: 0.3841 - val_loss: 0.5546 - val_accuracy: 0.0718\n",
      "Epoch 4/25\n",
      "69/69 [==============================] - 158s 2s/step - loss: 0.1699 - accuracy: 0.5417 - val_loss: 2.0305 - val_accuracy: 0.1057\n",
      "Epoch 5/25\n",
      "69/69 [==============================] - 123s 2s/step - loss: 0.1545 - accuracy: 0.5866 - val_loss: 1.4136 - val_accuracy: 0.0745\n",
      "Epoch 6/25\n",
      "69/69 [==============================] - 120s 2s/step - loss: 0.1297 - accuracy: 0.6586 - val_loss: 1.1419 - val_accuracy: 0.1070\n",
      "Epoch 7/25\n",
      "69/69 [==============================] - 120s 2s/step - loss: 0.1211 - accuracy: 0.6842 - val_loss: 0.4485 - val_accuracy: 0.2182\n",
      "Epoch 8/25\n",
      "69/69 [==============================] - 119s 2s/step - loss: 0.1088 - accuracy: 0.7204 - val_loss: 0.3717 - val_accuracy: 0.2913\n",
      "Epoch 9/25\n",
      "69/69 [==============================] - 119s 2s/step - loss: 0.1042 - accuracy: 0.7365 - val_loss: 0.1801 - val_accuracy: 0.5949\n",
      "Epoch 10/25\n",
      "69/69 [==============================] - 121s 2s/step - loss: 0.0964 - accuracy: 0.7585 - val_loss: 0.3132 - val_accuracy: 0.4160\n",
      "Epoch 11/25\n",
      "69/69 [==============================] - 121s 2s/step - loss: 0.0905 - accuracy: 0.7727 - val_loss: 0.4150 - val_accuracy: 0.4173\n",
      "Epoch 12/25\n",
      "69/69 [==============================] - 120s 2s/step - loss: 0.0859 - accuracy: 0.7906 - val_loss: 0.3208 - val_accuracy: 0.4905\n",
      "Epoch 13/25\n",
      "69/69 [==============================] - 129s 2s/step - loss: 0.0804 - accuracy: 0.8025 - val_loss: 0.2814 - val_accuracy: 0.4797\n",
      "Epoch 14/25\n",
      "69/69 [==============================] - 124s 2s/step - loss: 0.0799 - accuracy: 0.8025 - val_loss: 0.2116 - val_accuracy: 0.5799\n",
      "Epoch 15/25\n",
      "69/69 [==============================] - 123s 2s/step - loss: 0.0713 - accuracy: 0.8254 - val_loss: 0.2562 - val_accuracy: 0.6152\n",
      "Epoch 16/25\n",
      "69/69 [==============================] - 119s 2s/step - loss: 0.0705 - accuracy: 0.8313 - val_loss: 0.6828 - val_accuracy: 0.3550\n",
      "Epoch 17/25\n",
      "69/69 [==============================] - 121s 2s/step - loss: 0.0753 - accuracy: 0.8107 - val_loss: 0.7747 - val_accuracy: 0.2629\n",
      "Epoch 18/25\n",
      "69/69 [==============================] - 121s 2s/step - loss: 0.0751 - accuracy: 0.8199 - val_loss: 0.4983 - val_accuracy: 0.3794\n",
      "Epoch 19/25\n",
      "69/69 [==============================] - 121s 2s/step - loss: 0.0691 - accuracy: 0.8359 - val_loss: 0.3454 - val_accuracy: 0.4688\n",
      "Epoch 20/25\n",
      "69/69 [==============================] - 119s 2s/step - loss: 0.0841 - accuracy: 0.8043 - val_loss: 1.3980 - val_accuracy: 0.1084\n",
      "Epoch 21/25\n",
      "69/69 [==============================] - 119s 2s/step - loss: 0.1088 - accuracy: 0.7383 - val_loss: 0.5720 - val_accuracy: 0.2073\n",
      "Epoch 22/25\n",
      "69/69 [==============================] - 124s 2s/step - loss: 0.0966 - accuracy: 0.7617 - val_loss: 1.0825 - val_accuracy: 0.2561\n",
      "Epoch 23/25\n",
      "69/69 [==============================] - 120s 2s/step - loss: 0.0856 - accuracy: 0.7919 - val_loss: 0.2536 - val_accuracy: 0.5962\n",
      "Epoch 24/25\n",
      "69/69 [==============================] - 119s 2s/step - loss: 0.0722 - accuracy: 0.8346 - val_loss: 0.1944 - val_accuracy: 0.6491\n",
      "Epoch 25/25\n",
      "69/69 [==============================] - 124s 2s/step - loss: 0.0712 - accuracy: 0.8323 - val_loss: 0.1878 - val_accuracy: 0.5488\n"
     ]
    }
   ],
   "source": [
    "history = model.fit_generator(aug.flow(x_train, y_train, batch_size=BS),validation_data=(x_test, y_test),\n",
    "                              steps_per_epoch=len(x_train) // BS,epochs=EPOCHS, verbose=1)"
   ]
  },
  {
   "cell_type": "code",
   "execution_count": 29,
   "id": "7dbc61fc",
   "metadata": {},
   "outputs": [
    {
     "name": "stdout",
     "output_type": "stream",
     "text": [
      "19/19 [==============================] - 8s 431ms/step\n"
     ]
    }
   ],
   "source": [
    "m=model.predict(x_test)"
   ]
  },
  {
   "cell_type": "code",
   "execution_count": 48,
   "id": "cc90b655",
   "metadata": {},
   "outputs": [
    {
     "data": {
      "text/plain": [
       "[0.0, 1.0, 0.0, 0.0, 0.0, 0.0, 0.0, 0.0, 0.0, 0.0, 0.0, 0.0, 0.0, 0.0, 0.0]"
      ]
     },
     "execution_count": 48,
     "metadata": {},
     "output_type": "execute_result"
    }
   ],
   "source": [
    "[round(i,2) for i in list(m[5])]"
   ]
  },
  {
   "cell_type": "code",
   "execution_count": 17,
   "id": "098651c4",
   "metadata": {},
   "outputs": [
    {
     "data": {
      "image/png": "[encoded data removed]",
      "text/plain": [
       "<Figure size 640x480 with 1 Axes>"
      ]
     },
     "metadata": {},
     "output_type": "display_data"
    },
    {
     "data": {
      "image/png": "[encoded data removed]",
      "text/plain": [
       "<Figure size 640x480 with 1 Axes>"
      ]
     },
     "metadata": {},
     "output_type": "display_data"
    }
   ],
   "source": [
    "acc = history.history['accuracy']\n",
    "val_acc = history.history['val_accuracy']\n",
    "loss = history.history['loss']\n",
    "val_loss = history.history['val_loss']\n",
    "epochs = range(1, len(acc) + 1)\n",
    "#Train and validation accuracy\n",
    "plt.plot(epochs, acc, 'b', label='Training accurarcy')\n",
    "plt.plot(epochs, val_acc, 'r', label='Validation accurarcy')\n",
    "plt.title('Training and Validation accurarcy')\n",
    "plt.legend()\n",
    "\n",
    "plt.figure()\n",
    "#Train and validation loss\n",
    "plt.plot(epochs, loss, 'b', label='Training loss')\n",
    "plt.plot(epochs, val_loss, 'r', label='Validation loss')\n",
    "plt.title('Training and Validation loss')\n",
    "plt.legend()\n",
    "plt.show()"
   ]
  },
  {
   "cell_type": "code",
   "execution_count": 18,
   "id": "42ff9620",
   "metadata": {},
   "outputs": [
    {
     "name": "stdout",
     "output_type": "stream",
     "text": [
      "[INFO] Calculating model accuracy\n",
      "19/19 [==============================] - 10s 470ms/step - loss: 0.2839 - accuracy: 0.5431\n",
      "Test Accuracy: 54.31472063064575\n"
     ]
    }
   ],
   "source": [
    "print(\"[INFO] Calculating model accuracy\")\n",
    "scores = model.evaluate(x_test, y_test)\n",
    "print(f\"Test Accuracy: {scores[1]*100}\")"
   ]
  },
  {
   "cell_type": "markdown",
   "id": "32a16028",
   "metadata": {},
   "source": [
    "## Code to save the model in system"
   ]
  },
  {
   "cell_type": "code",
   "execution_count": 17,
   "id": "abfe7a44",
   "metadata": {},
   "outputs": [
    {
     "name": "stderr",
     "output_type": "stream",
     "text": [
      "C:\\Users\\nmims.student\\AppData\\Local\\anaconda3\\Lib\\site-packages\\keras\\src\\engine\\training.py:3000: UserWarning: You are saving your model as an HDF5 file via `model.save()`. This file format is considered legacy. We recommend using instead the native Keras format, e.g. `model.save('my_model.keras')`.\n",
      "  saving_api.save_model(\n"
     ]
    }
   ],
   "source": [
    "from tensorflow import keras\n",
    "model.save('cnn_model.h5')"
   ]
  },
  {
   "cell_type": "code",
   "execution_count": 18,
   "id": "3fe721cd",
   "metadata": {},
   "outputs": [],
   "source": [
    "from keras.models import load_model\n",
    "loaded_model = load_model('cnn_model_tn.h5')"
   ]
  },
  {
   "cell_type": "code",
   "execution_count": 19,
   "id": "13948e8a",
   "metadata": {},
   "outputs": [
    {
     "name": "stdout",
     "output_type": "stream",
     "text": [
      "[INFO] Calculating model accuracy\n",
      "24/24 [==============================] - 8s 314ms/step - loss: 0.1676 - accuracy: 0.7344\n",
      "Test Accuracy: 73.44173192977905\n"
     ]
    }
   ],
   "source": [
    "print(\"[INFO] Calculating model accuracy\")\n",
    "scores =model.evaluate(x_test, y_test)\n",
    "print(f\"Test Accuracy: {scores[1]*100}\")"
   ]
  },
  {
   "cell_type": "code",
   "execution_count": null,
   "id": "94574c33",
   "metadata": {},
   "outputs": [],
   "source": [
    "# extra dense 1024\n"
   ]
  },
  {
   "cell_type": "code",
   "execution_count": 26,
   "id": "6696b07c",
   "metadata": {},
   "outputs": [],
   "source": [
    "model2 = Sequential()\n",
    "inputShape = (height, width, depth)\n",
    "chanDim = -1\n",
    "if K.image_data_format() == \"channels_first\":\n",
    "    inputShape = (depth, height, width)\n",
    "    chanDim = 1\n",
    "\n",
    "model2.add(Conv2D(32, (3, 3), padding=\"same\",input_shape=inputShape))\n",
    "model2.add(Activation(\"relu\"))\n",
    "model2.add(BatchNormalization(axis=chanDim))\n",
    "model2.add(MaxPooling2D(pool_size=(3, 3)))\n",
    "model2.add(Dropout(0.25))\n",
    "\n",
    "model2.add(Conv2D(64, (3, 3), padding=\"same\"))\n",
    "model2.add(Activation(\"relu\"))\n",
    "model2.add(BatchNormalization(axis=chanDim))\n",
    "\n",
    "model2.add(Conv2D(64, (3, 3), padding=\"same\"))\n",
    "model2.add(Activation(\"relu\"))\n",
    "model2.add(BatchNormalization(axis=chanDim))\n",
    "model2.add(MaxPooling2D(pool_size=(2, 2)))\n",
    "model2.add(Dropout(0.25))\n",
    "\n",
    "\n",
    "model2.add(Conv2D(128, (3, 3), padding=\"same\"))\n",
    "model2.add(Activation(\"relu\"))\n",
    "model2.add(BatchNormalization(axis=chanDim))\n",
    "\n",
    "\n",
    "model2.add(Conv2D(128, (3, 3), padding=\"same\"))\n",
    "model2.add(Activation(\"relu\"))\n",
    "model2.add(BatchNormalization(axis=chanDim))\n",
    "model2.add(MaxPooling2D(pool_size=(2, 2)))\n",
    "model2.add(Dropout(0.25))\n",
    "model2.add(Flatten())\n",
    "\n",
    "\n",
    "model2.add(Dense(1024))\n",
    "model2.add(Activation(\"relu\"))\n",
    "model2.add(BatchNormalization())\n",
    "model2.add(Dropout(0.4))\n",
    "\n",
    "model2.add(Dense(1024))\n",
    "model2.add(Activation(\"relu\"))\n",
    "model2.add(BatchNormalization())\n",
    "model2.add(Dropout(0.45))\n",
    "\n",
    "\n",
    "model2.add(Dense(n_classes))\n",
    "model2.add(Activation(\"softmax\"))"
   ]
  },
  {
   "cell_type": "code",
   "execution_count": 27,
   "id": "9bef7766",
   "metadata": {},
   "outputs": [
    {
     "name": "stdout",
     "output_type": "stream",
     "text": [
      "Model: \"sequential_1\"\n",
      "_________________________________________________________________\n",
      " Layer (type)                Output Shape              Param #   \n",
      "=================================================================\n",
      " conv2d_5 (Conv2D)           (None, 256, 256, 32)      896       \n",
      "                                                                 \n",
      " activation_7 (Activation)   (None, 256, 256, 32)      0         \n",
      "                                                                 \n",
      " batch_normalization_6 (Bat  (None, 256, 256, 32)      128       \n",
      " chNormalization)                                                \n",
      "                                                                 \n",
      " max_pooling2d_3 (MaxPoolin  (None, 85, 85, 32)        0         \n",
      " g2D)                                                            \n",
      "                                                                 \n",
      " dropout_4 (Dropout)         (None, 85, 85, 32)        0         \n",
      "                                                                 \n",
      " conv2d_6 (Conv2D)           (None, 85, 85, 64)        18496     \n",
      "                                                                 \n",
      " activation_8 (Activation)   (None, 85, 85, 64)        0         \n",
      "                                                                 \n",
      " batch_normalization_7 (Bat  (None, 85, 85, 64)        256       \n",
      " chNormalization)                                                \n",
      "                                                                 \n",
      " conv2d_7 (Conv2D)           (None, 85, 85, 64)        36928     \n",
      "                                                                 \n",
      " activation_9 (Activation)   (None, 85, 85, 64)        0         \n",
      "                                                                 \n",
      " batch_normalization_8 (Bat  (None, 85, 85, 64)        256       \n",
      " chNormalization)                                                \n",
      "                                                                 \n",
      " max_pooling2d_4 (MaxPoolin  (None, 42, 42, 64)        0         \n",
      " g2D)                                                            \n",
      "                                                                 \n",
      " dropout_5 (Dropout)         (None, 42, 42, 64)        0         \n",
      "                                                                 \n",
      " conv2d_8 (Conv2D)           (None, 42, 42, 128)       73856     \n",
      "                                                                 \n",
      " activation_10 (Activation)  (None, 42, 42, 128)       0         \n",
      "                                                                 \n",
      " batch_normalization_9 (Bat  (None, 42, 42, 128)       512       \n",
      " chNormalization)                                                \n",
      "                                                                 \n",
      " conv2d_9 (Conv2D)           (None, 42, 42, 128)       147584    \n",
      "                                                                 \n",
      " activation_11 (Activation)  (None, 42, 42, 128)       0         \n",
      "                                                                 \n",
      " batch_normalization_10 (Ba  (None, 42, 42, 128)       512       \n",
      " tchNormalization)                                               \n",
      "                                                                 \n",
      " max_pooling2d_5 (MaxPoolin  (None, 21, 21, 128)       0         \n",
      " g2D)                                                            \n",
      "                                                                 \n",
      " dropout_6 (Dropout)         (None, 21, 21, 128)       0         \n",
      "                                                                 \n",
      " flatten_1 (Flatten)         (None, 56448)             0         \n",
      "                                                                 \n",
      " dense_2 (Dense)             (None, 1024)              57803776  \n",
      "                                                                 \n",
      " activation_12 (Activation)  (None, 1024)              0         \n",
      "                                                                 \n",
      " batch_normalization_11 (Ba  (None, 1024)              4096      \n",
      " tchNormalization)                                               \n",
      "                                                                 \n",
      " dropout_7 (Dropout)         (None, 1024)              0         \n",
      "                                                                 \n",
      " dense_3 (Dense)             (None, 1024)              1049600   \n",
      "                                                                 \n",
      " activation_13 (Activation)  (None, 1024)              0         \n",
      "                                                                 \n",
      " batch_normalization_12 (Ba  (None, 1024)              4096      \n",
      " tchNormalization)                                               \n",
      "                                                                 \n",
      " dropout_8 (Dropout)         (None, 1024)              0         \n",
      "                                                                 \n",
      " dense_4 (Dense)             (None, 15)                15375     \n",
      "                                                                 \n",
      " activation_14 (Activation)  (None, 15)                0         \n",
      "                                                                 \n",
      "=================================================================\n",
      "Total params: 59156367 (225.66 MB)\n",
      "Trainable params: 59151439 (225.64 MB)\n",
      "Non-trainable params: 4928 (19.25 KB)\n",
      "_________________________________________________________________\n"
     ]
    }
   ],
   "source": [
    "model2.summary()"
   ]
  },
  {
   "cell_type": "code",
   "execution_count": 28,
   "id": "16a5c928",
   "metadata": {},
   "outputs": [
    {
     "name": "stderr",
     "output_type": "stream",
     "text": [
      "WARNING:absl:`lr` is deprecated in Keras optimizer, please use `learning_rate` or use the legacy optimizer, e.g.,tf.keras.optimizers.legacy.Adam.\n"
     ]
    }
   ],
   "source": [
    "opt = Adam(lr=INIT_LR)\n",
    "model2.compile(loss=\"binary_crossentropy\", optimizer=opt,metrics=[\"accuracy\"])"
   ]
  },
  {
   "cell_type": "code",
   "execution_count": 29,
   "id": "98e8f3b2",
   "metadata": {},
   "outputs": [
    {
     "name": "stderr",
     "output_type": "stream",
     "text": [
      "C:\\Users\\Harsh\\AppData\\Local\\Temp\\ipykernel_16292\\2447241474.py:1: UserWarning: `Model.fit_generator` is deprecated and will be removed in a future version. Please use `Model.fit`, which supports generators.\n",
      "  history2 = model2.fit_generator(aug.flow(x_train, y_train, batch_size=BS),validation_data=(x_test, y_test),\n"
     ]
    },
    {
     "name": "stdout",
     "output_type": "stream",
     "text": [
      "Epoch 1/25\n",
      "73/73 [==============================] - 135s 2s/step - loss: 0.7316 - accuracy: 0.1537 - val_loss: 1.0158 - val_accuracy: 0.0677\n",
      "Epoch 2/25\n",
      "73/73 [==============================] - 127s 2s/step - loss: 0.3312 - accuracy: 0.2847 - val_loss: 0.6985 - val_accuracy: 0.0812\n",
      "Epoch 3/25\n",
      "73/73 [==============================] - 125s 2s/step - loss: 0.1999 - accuracy: 0.4762 - val_loss: 0.5790 - val_accuracy: 0.0846\n",
      "Epoch 4/25\n",
      "73/73 [==============================] - 125s 2s/step - loss: 0.1632 - accuracy: 0.5625 - val_loss: 0.6623 - val_accuracy: 0.0558\n",
      "Epoch 5/25\n",
      "73/73 [==============================] - 125s 2s/step - loss: 0.1324 - accuracy: 0.6432 - val_loss: 0.3523 - val_accuracy: 0.1607\n",
      "Epoch 6/25\n",
      "73/73 [==============================] - 124s 2s/step - loss: 0.1240 - accuracy: 0.6801 - val_loss: 0.3747 - val_accuracy: 0.2115\n",
      "Epoch 7/25\n",
      "73/73 [==============================] - 124s 2s/step - loss: 0.1187 - accuracy: 0.6878 - val_loss: 0.4494 - val_accuracy: 0.1760\n",
      "Epoch 8/25\n",
      "73/73 [==============================] - 125s 2s/step - loss: 0.1024 - accuracy: 0.7299 - val_loss: 0.1835 - val_accuracy: 0.4704\n",
      "Epoch 9/25\n",
      "73/73 [==============================] - 123s 2s/step - loss: 0.0945 - accuracy: 0.7548 - val_loss: 0.5223 - val_accuracy: 0.3773\n",
      "Epoch 10/25\n",
      "73/73 [==============================] - 127s 2s/step - loss: 0.0888 - accuracy: 0.7789 - val_loss: 0.2142 - val_accuracy: 0.6176\n",
      "Epoch 11/25\n",
      "73/73 [==============================] - 124s 2s/step - loss: 0.0852 - accuracy: 0.7905 - val_loss: 0.2119 - val_accuracy: 0.5313\n",
      "Epoch 12/25\n",
      "73/73 [==============================] - 125s 2s/step - loss: 0.0872 - accuracy: 0.7776 - val_loss: 0.5139 - val_accuracy: 0.3181\n",
      "Epoch 13/25\n",
      "73/73 [==============================] - 128s 2s/step - loss: 0.0766 - accuracy: 0.8111 - val_loss: 0.2318 - val_accuracy: 0.6294\n",
      "Epoch 14/25\n",
      "73/73 [==============================] - 142s 2s/step - loss: 0.0683 - accuracy: 0.8313 - val_loss: 0.2422 - val_accuracy: 0.5161\n",
      "Epoch 15/25\n",
      "73/73 [==============================] - 130s 2s/step - loss: 0.0716 - accuracy: 0.8222 - val_loss: 0.4175 - val_accuracy: 0.4585\n",
      "Epoch 16/25\n",
      "73/73 [==============================] - 126s 2s/step - loss: 0.0638 - accuracy: 0.8471 - val_loss: 0.8350 - val_accuracy: 0.3706\n",
      "Epoch 17/25\n",
      "73/73 [==============================] - 126s 2s/step - loss: 0.0609 - accuracy: 0.8450 - val_loss: 0.5881 - val_accuracy: 0.4129\n",
      "Epoch 18/25\n",
      "73/73 [==============================] - 124s 2s/step - loss: 0.0574 - accuracy: 0.8613 - val_loss: 0.1655 - val_accuracy: 0.6548\n",
      "Epoch 19/25\n",
      "73/73 [==============================] - 126s 2s/step - loss: 0.0519 - accuracy: 0.8806 - val_loss: 0.1229 - val_accuracy: 0.6954\n",
      "Epoch 20/25\n",
      "73/73 [==============================] - 125s 2s/step - loss: 0.0530 - accuracy: 0.8703 - val_loss: 0.1214 - val_accuracy: 0.7208\n",
      "Epoch 21/25\n",
      "73/73 [==============================] - 124s 2s/step - loss: 0.0505 - accuracy: 0.8841 - val_loss: 0.3735 - val_accuracy: 0.5110\n",
      "Epoch 22/25\n",
      "73/73 [==============================] - 125s 2s/step - loss: 0.0460 - accuracy: 0.8978 - val_loss: 0.0946 - val_accuracy: 0.7783\n",
      "Epoch 23/25\n",
      "73/73 [==============================] - 123s 2s/step - loss: 0.0519 - accuracy: 0.8815 - val_loss: 0.2897 - val_accuracy: 0.5668\n",
      "Epoch 24/25\n",
      "73/73 [==============================] - 126s 2s/step - loss: 0.0487 - accuracy: 0.8905 - val_loss: 0.9673 - val_accuracy: 0.2403\n",
      "Epoch 25/25\n",
      "73/73 [==============================] - 125s 2s/step - loss: 0.0462 - accuracy: 0.8879 - val_loss: 0.1890 - val_accuracy: 0.6751\n"
     ]
    }
   ],
   "source": [
    "history2 = model2.fit_generator(aug.flow(x_train, y_train, batch_size=BS),validation_data=(x_test, y_test),\n",
    "                              steps_per_epoch=len(x_train) // BS,epochs=EPOCHS, verbose=1)"
   ]
  },
  {
   "cell_type": "code",
   "execution_count": 30,
   "id": "549e284a",
   "metadata": {},
   "outputs": [
    {
     "name": "stderr",
     "output_type": "stream",
     "text": [
      "C:\\Users\\Harsh\\anaconda3\\Lib\\site-packages\\keras\\src\\engine\\training.py:3103: UserWarning: You are saving your model as an HDF5 file via `model.save()`. This file format is considered legacy. We recommend using instead the native Keras format, e.g. `model.save('my_model.keras')`.\n",
      "  saving_api.save_model(\n"
     ]
    }
   ],
   "source": [
    "from tensorflow import keras\n",
    "model2.save('cnn_model_hk.h5')"
   ]
  },
  {
   "cell_type": "code",
   "execution_count": null,
   "id": "5c0ec330",
   "metadata": {},
   "outputs": [],
   "source": []
  },
  {
   "cell_type": "code",
   "execution_count": null,
   "id": "0e9df242",
   "metadata": {},
   "outputs": [],
   "source": []
  },
  {
   "cell_type": "code",
   "execution_count": 32,
   "id": "87e5b05b",
   "metadata": {},
   "outputs": [],
   "source": [
    "model3 = Sequential()\n",
    "inputShape = (height, width, depth)\n",
    "chanDim = -1\n",
    "if K.image_data_format() == \"channels_first\":\n",
    "    inputShape = (depth, height, width)\n",
    "    chanDim = 1\n",
    "\n",
    "model3.add(Conv2D(32, (3, 3), padding=\"same\",input_shape=inputShape))\n",
    "model3.add(Activation(\"relu\"))\n",
    "model3.add(BatchNormalization(axis=chanDim))\n",
    "model3.add(MaxPooling2D(pool_size=(3, 3)))\n",
    "model3.add(Dropout(0.25))\n",
    "\n",
    "#model3.add(Conv2D(64, (3, 3), padding=\"same\"))\n",
    "#model3.add(Activation(\"relu\"))\n",
    "#model3.add(BatchNormalization(axis=chanDim))\n",
    "\n",
    "model3.add(Conv2D(64, (3, 3), padding=\"same\"))\n",
    "model3.add(Activation(\"relu\"))\n",
    "model3.add(BatchNormalization(axis=chanDim))\n",
    "model3.add(MaxPooling2D(pool_size=(2, 2)))\n",
    "model3.add(Dropout(0.25))\n",
    "\n",
    "\n",
    "model3.add(Conv2D(128, (3, 3), padding=\"same\"))\n",
    "model3.add(Activation(\"relu\"))\n",
    "model3.add(BatchNormalization(axis=chanDim))\n",
    "\n",
    "\n",
    "model3.add(Conv2D(128, (3, 3), padding=\"same\"))\n",
    "model3.add(Activation(\"relu\"))\n",
    "model3.add(BatchNormalization(axis=chanDim))\n",
    "model3.add(MaxPooling2D(pool_size=(2, 2)))\n",
    "model3.add(Dropout(0.25))\n",
    "model3.add(Flatten())\n",
    "\n",
    "\n",
    "model3.add(Dense(1024))\n",
    "model3.add(Activation(\"relu\"))\n",
    "model3.add(BatchNormalization())\n",
    "model3.add(Dropout(0.4))\n",
    "\n",
    "model3.add(Dense(1024))\n",
    "model3.add(Activation(\"relu\"))\n",
    "model3.add(BatchNormalization())\n",
    "model3.add(Dropout(0.45))\n",
    "\n",
    "\n",
    "model3.add(Dense(n_classes))\n",
    "model3.add(Activation(\"softmax\"))"
   ]
  },
  {
   "cell_type": "code",
   "execution_count": 33,
   "id": "4da215e7",
   "metadata": {},
   "outputs": [
    {
     "name": "stdout",
     "output_type": "stream",
     "text": [
      "Model: \"sequential_2\"\n",
      "_________________________________________________________________\n",
      " Layer (type)                Output Shape              Param #   \n",
      "=================================================================\n",
      " conv2d_10 (Conv2D)          (None, 256, 256, 32)      896       \n",
      "                                                                 \n",
      " activation_15 (Activation)  (None, 256, 256, 32)      0         \n",
      "                                                                 \n",
      " batch_normalization_13 (Ba  (None, 256, 256, 32)      128       \n",
      " tchNormalization)                                               \n",
      "                                                                 \n",
      " max_pooling2d_6 (MaxPoolin  (None, 85, 85, 32)        0         \n",
      " g2D)                                                            \n",
      "                                                                 \n",
      " dropout_9 (Dropout)         (None, 85, 85, 32)        0         \n",
      "                                                                 \n",
      " conv2d_11 (Conv2D)          (None, 85, 85, 64)        18496     \n",
      "                                                                 \n",
      " activation_16 (Activation)  (None, 85, 85, 64)        0         \n",
      "                                                                 \n",
      " batch_normalization_14 (Ba  (None, 85, 85, 64)        256       \n",
      " tchNormalization)                                               \n",
      "                                                                 \n",
      " max_pooling2d_7 (MaxPoolin  (None, 42, 42, 64)        0         \n",
      " g2D)                                                            \n",
      "                                                                 \n",
      " dropout_10 (Dropout)        (None, 42, 42, 64)        0         \n",
      "                                                                 \n",
      " conv2d_12 (Conv2D)          (None, 42, 42, 128)       73856     \n",
      "                                                                 \n",
      " activation_17 (Activation)  (None, 42, 42, 128)       0         \n",
      "                                                                 \n",
      " batch_normalization_15 (Ba  (None, 42, 42, 128)       512       \n",
      " tchNormalization)                                               \n",
      "                                                                 \n",
      " conv2d_13 (Conv2D)          (None, 42, 42, 128)       147584    \n",
      "                                                                 \n",
      " activation_18 (Activation)  (None, 42, 42, 128)       0         \n",
      "                                                                 \n",
      " batch_normalization_16 (Ba  (None, 42, 42, 128)       512       \n",
      " tchNormalization)                                               \n",
      "                                                                 \n",
      " max_pooling2d_8 (MaxPoolin  (None, 21, 21, 128)       0         \n",
      " g2D)                                                            \n",
      "                                                                 \n",
      " dropout_11 (Dropout)        (None, 21, 21, 128)       0         \n",
      "                                                                 \n",
      " flatten_2 (Flatten)         (None, 56448)             0         \n",
      "                                                                 \n",
      " dense_5 (Dense)             (None, 1024)              57803776  \n",
      "                                                                 \n",
      " activation_19 (Activation)  (None, 1024)              0         \n",
      "                                                                 \n",
      " batch_normalization_17 (Ba  (None, 1024)              4096      \n",
      " tchNormalization)                                               \n",
      "                                                                 \n",
      " dropout_12 (Dropout)        (None, 1024)              0         \n",
      "                                                                 \n",
      " dense_6 (Dense)             (None, 1024)              1049600   \n",
      "                                                                 \n",
      " activation_20 (Activation)  (None, 1024)              0         \n",
      "                                                                 \n",
      " batch_normalization_18 (Ba  (None, 1024)              4096      \n",
      " tchNormalization)                                               \n",
      "                                                                 \n",
      " dropout_13 (Dropout)        (None, 1024)              0         \n",
      "                                                                 \n",
      " dense_7 (Dense)             (None, 15)                15375     \n",
      "                                                                 \n",
      " activation_21 (Activation)  (None, 15)                0         \n",
      "                                                                 \n",
      "=================================================================\n",
      "Total params: 59119183 (225.52 MB)\n",
      "Trainable params: 59114383 (225.50 MB)\n",
      "Non-trainable params: 4800 (18.75 KB)\n",
      "_________________________________________________________________\n"
     ]
    }
   ],
   "source": [
    "model3.summary()"
   ]
  },
  {
   "cell_type": "code",
   "execution_count": 34,
   "id": "f7def022",
   "metadata": {},
   "outputs": [
    {
     "name": "stderr",
     "output_type": "stream",
     "text": [
      "WARNING:absl:`lr` is deprecated in Keras optimizer, please use `learning_rate` or use the legacy optimizer, e.g.,tf.keras.optimizers.legacy.Adam.\n"
     ]
    }
   ],
   "source": [
    "opt = Adam(lr=INIT_LR)\n",
    "model3.compile(loss=\"binary_crossentropy\", optimizer=opt,metrics=[\"accuracy\"])"
   ]
  },
  {
   "cell_type": "code",
   "execution_count": 36,
   "id": "e0896bc9",
   "metadata": {},
   "outputs": [
    {
     "name": "stderr",
     "output_type": "stream",
     "text": [
      "C:\\Users\\Harsh\\AppData\\Local\\Temp\\ipykernel_16292\\2447484730.py:1: UserWarning: `Model.fit_generator` is deprecated and will be removed in a future version. Please use `Model.fit`, which supports generators.\n",
      "  history3 = model3.fit_generator(aug.flow(x_train, y_train, batch_size=BS),validation_data=(x_test, y_test),\n"
     ]
    },
    {
     "name": "stdout",
     "output_type": "stream",
     "text": [
      "Epoch 1/25\n",
      "73/73 [==============================] - 128s 2s/step - loss: 0.7358 - accuracy: 0.1752 - val_loss: 0.7839 - val_accuracy: 0.0541\n",
      "Epoch 2/25\n",
      "73/73 [==============================] - 121s 2s/step - loss: 0.3351 - accuracy: 0.3126 - val_loss: 0.5064 - val_accuracy: 0.0338\n",
      "Epoch 3/25\n",
      "73/73 [==============================] - 118s 2s/step - loss: 0.1918 - accuracy: 0.4933 - val_loss: 0.9252 - val_accuracy: 0.0626\n",
      "Epoch 4/25\n",
      "73/73 [==============================] - 114s 2s/step - loss: 0.1543 - accuracy: 0.5874 - val_loss: 1.0979 - val_accuracy: 0.0626\n",
      "Epoch 5/25\n",
      "73/73 [==============================] - 113s 2s/step - loss: 0.1425 - accuracy: 0.6179 - val_loss: 0.5675 - val_accuracy: 0.0728\n",
      "Epoch 6/25\n",
      "73/73 [==============================] - 113s 2s/step - loss: 0.1267 - accuracy: 0.6617 - val_loss: 0.8617 - val_accuracy: 0.0846\n",
      "Epoch 7/25\n",
      "73/73 [==============================] - 113s 2s/step - loss: 0.1105 - accuracy: 0.7020 - val_loss: 0.2633 - val_accuracy: 0.3469\n",
      "Epoch 8/25\n",
      "73/73 [==============================] - 113s 2s/step - loss: 0.1014 - accuracy: 0.7514 - val_loss: 0.3158 - val_accuracy: 0.2707\n",
      "Epoch 9/25\n",
      "73/73 [==============================] - 112s 2s/step - loss: 0.0922 - accuracy: 0.7660 - val_loss: 0.3110 - val_accuracy: 0.4196\n",
      "Epoch 10/25\n",
      "73/73 [==============================] - 115s 2s/step - loss: 0.0899 - accuracy: 0.7793 - val_loss: 0.3283 - val_accuracy: 0.4162\n",
      "Epoch 11/25\n",
      "73/73 [==============================] - 114s 2s/step - loss: 0.0834 - accuracy: 0.7918 - val_loss: 0.1256 - val_accuracy: 0.7005\n",
      "Epoch 12/25\n",
      "73/73 [==============================] - 115s 2s/step - loss: 0.0781 - accuracy: 0.7939 - val_loss: 0.4194 - val_accuracy: 0.2149\n",
      "Epoch 13/25\n",
      "73/73 [==============================] - 113s 2s/step - loss: 0.0920 - accuracy: 0.7703 - val_loss: 0.6850 - val_accuracy: 0.1912\n",
      "Epoch 14/25\n",
      "73/73 [==============================] - 113s 2s/step - loss: 0.0773 - accuracy: 0.8081 - val_loss: 0.2904 - val_accuracy: 0.4602\n",
      "Epoch 15/25\n",
      "73/73 [==============================] - 112s 2s/step - loss: 0.0705 - accuracy: 0.8270 - val_loss: 0.7709 - val_accuracy: 0.2673\n",
      "Epoch 16/25\n",
      "73/73 [==============================] - 113s 2s/step - loss: 0.0742 - accuracy: 0.8158 - val_loss: 0.3814 - val_accuracy: 0.3553\n",
      "Epoch 17/25\n",
      "73/73 [==============================] - 112s 2s/step - loss: 0.0640 - accuracy: 0.8377 - val_loss: 0.3011 - val_accuracy: 0.4975\n",
      "Epoch 18/25\n",
      "73/73 [==============================] - 114s 2s/step - loss: 0.0659 - accuracy: 0.8407 - val_loss: 0.0758 - val_accuracy: 0.8173\n",
      "Epoch 19/25\n",
      "73/73 [==============================] - 115s 2s/step - loss: 0.0560 - accuracy: 0.8605 - val_loss: 0.3257 - val_accuracy: 0.5448\n",
      "Epoch 20/25\n",
      "73/73 [==============================] - 114s 2s/step - loss: 0.0545 - accuracy: 0.8703 - val_loss: 0.1948 - val_accuracy: 0.6311\n",
      "Epoch 21/25\n",
      "73/73 [==============================] - 115s 2s/step - loss: 0.0548 - accuracy: 0.8729 - val_loss: 0.2878 - val_accuracy: 0.5736\n",
      "Epoch 22/25\n",
      "73/73 [==============================] - 118s 2s/step - loss: 0.0630 - accuracy: 0.8514 - val_loss: 0.1540 - val_accuracy: 0.6582\n",
      "Epoch 23/25\n",
      "73/73 [==============================] - 115s 2s/step - loss: 0.0591 - accuracy: 0.8579 - val_loss: 0.1051 - val_accuracy: 0.7986\n",
      "Epoch 24/25\n",
      "73/73 [==============================] - 114s 2s/step - loss: 0.0523 - accuracy: 0.8686 - val_loss: 0.2669 - val_accuracy: 0.5821\n",
      "Epoch 25/25\n",
      "73/73 [==============================] - 114s 2s/step - loss: 0.0489 - accuracy: 0.8914 - val_loss: 0.1446 - val_accuracy: 0.6684\n"
     ]
    }
   ],
   "source": [
    "history3 = model3.fit_generator(aug.flow(x_train, y_train, batch_size=BS),validation_data=(x_test, y_test),\n",
    "                              steps_per_epoch=len(x_train) // BS,epochs=EPOCHS, verbose=1)"
   ]
  },
  {
   "cell_type": "code",
   "execution_count": null,
   "id": "630a1fa4",
   "metadata": {},
   "outputs": [],
   "source": []
  },
  {
   "cell_type": "code",
   "execution_count": 37,
   "id": "6c1e6133",
   "metadata": {},
   "outputs": [],
   "source": [
    "from tensorflow import keras\n",
    "model3.save('cnn_model_hk_1.h5')"
   ]
  },
  {
   "cell_type": "code",
   "execution_count": null,
   "id": "36ca7bb4",
   "metadata": {},
   "outputs": [],
   "source": []
  },
  {
   "cell_type": "markdown",
   "id": "6881358c",
   "metadata": {},
   "source": [
    "## Let's proceed with ML algorithms"
   ]
  },
  {
   "cell_type": "code",
   "execution_count": 20,
   "id": "1bc11420",
   "metadata": {},
   "outputs": [],
   "source": [
    "X_train, X_test, Y_train, Y_test = train_test_split(df, image_labels, test_size=0.25, random_state = 42) "
   ]
  },
  {
   "cell_type": "markdown",
   "id": "32e07a69",
   "metadata": {},
   "source": [
    "from xgboost import XGBClassifier\n",
    "xg = XGBClassifier()\n",
    "xg.fit(X_train, Y_train)  #Model fitting on training data set\n",
    "#y_predxg_test = xg.predict(X_test) #Prediction using trained model on testing data set\n",
    "#y_predxg_train = xg.predict(X_train) #Prediction using trained model on training data set"
   ]
  },
  {
   "cell_type": "code",
   "execution_count": null,
   "id": "3922173c",
   "metadata": {},
   "outputs": [],
   "source": []
  },
  {
   "cell_type": "code",
   "execution_count": null,
   "id": "2b86fd75",
   "metadata": {},
   "outputs": [],
   "source": []
  },
  {
   "cell_type": "code",
   "execution_count": null,
   "id": "3d5bf2af",
   "metadata": {},
   "outputs": [],
   "source": []
  }
 ],
 "metadata": {
  "kernelspec": {
   "display_name": "Python 3 (ipykernel)",
   "language": "python",
   "name": "python3"
  },
  "language_info": {
   "codemirror_mode": {
    "name": "ipython",
    "version": 3
   },
   "file_extension": ".py",
   "mimetype": "text/x-python",
   "name": "python",
   "nbconvert_exporter": "python",
   "pygments_lexer": "ipython3",
   "version": "3.11.5"
  }
 },
 "nbformat": 4,
 "nbformat_minor": 5
}
